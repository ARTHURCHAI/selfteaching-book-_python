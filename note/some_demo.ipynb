{
 "cells": [
  {
   "cell_type": "markdown",
   "metadata": {},
   "source": [
    "## python practice\n",
    "[地址](https://pythonbasics.org/Exercises/)\n",
    "### 1.variables\n",
    "+ Make a program that displays several numbers.\n",
    "+ Make a program that solves and shows the summation of 64 + 32.\n",
    "+ Do the same as in 2, but make it sum x + y."
   ]
  },
  {
   "cell_type": "code",
   "execution_count": 1,
   "metadata": {},
   "outputs": [
    {
     "name": "stdout",
     "output_type": "stream",
     "text": [
      "96\n",
      "96\n"
     ]
    }
   ],
   "source": [
    "x = 64\n",
    "y = 32\n",
    "print(x + y)\n",
    "z = x + y\n",
    "print(z)"
   ]
  },
  {
   "cell_type": "markdown",
   "metadata": {},
   "source": []
  },
  {
   "cell_type": "markdown",
   "metadata": {},
   "source": [
    "## 2. strings\n",
    "+ Make a program that displays your favourite actor/actress.\n",
    "+ Try to print the word ‘lucky’ inside s.\n",
    "+ Try to print the day, month, year in the form “Today is 2/2/2016”."
   ]
  },
  {
   "cell_type": "code",
   "execution_count": 9,
   "metadata": {},
   "outputs": [
    {
     "name": "stdout",
     "output_type": "stream",
     "text": [
      "my favourite actress isli\n",
      "My lucky number is 7, what is yours?\n",
      "Today is 20/3/2019\n"
     ]
    }
   ],
   "source": [
    "youFavouriteActress = \"li\"\n",
    "print(\"my favourite actress is\" + youFavouriteActress)\n",
    "s = \"My lucky number is %d, what is yours?\" % 7  # combine the number and text\n",
    "print(s)\n",
    "print(\"Today is 20/3/2019\")"
   ]
  },
  {
   "cell_type": "markdown",
   "metadata": {},
   "source": [
    "## 3. string replace\n",
    ">Python has builtin support for string replacement. A string is a variable that contains text data\n",
    "\n",
    "---------------\n",
    ">> 关于repalce的官方文档。  \n",
    ">>bytes.replace(old, new[, count])  \n",
    ">>bytearray.replace(old, new[, count])  \n",
    ">>Return a copy of the sequence with all occurrences of subsequence old replaced by new. If the optional argument count is given, only the first count occurrences are replaced.  \n",
    ">>The subsequence to search for and its replacement may be any bytes-like object.  \n",
    ">>Note The bytearray version of this method does not operate in place - it always produces a new object, even if no changes were made.  \n",
    "\n",
    ">> 人话就是：会返回一个新的数据，但是是用新的代替了就得，count默认是全部替换，如果count写几，就换几个。count是整数,old and new must be str\n",
    "\n",
    ">> 但是问题是bytes  and bytearray是什么东西了？\n",
    "\n",
    "+ Try the replace program\n",
    "+ Can a string be replaced twice?\n",
    "+ Does replace only work with words or also phrases?"
   ]
  },
  {
   "cell_type": "code",
   "execution_count": 30,
   "metadata": {},
   "outputs": [
    {
     "name": "stdout",
     "output_type": "stream",
     "text": [
      "Hello Universe\n",
      "Hello World World World\n",
      "Hello Universe World World\n",
      "Hello Universe Universe World\n",
      "Hello you you you\n",
      "Hello 1 1 1\n",
      "64\n"
     ]
    }
   ],
   "source": [
    "s = \"Hello World\"\n",
    "s = s.replace(\"World\",\"Universe\")\n",
    "print(s)\n",
    "# 这里其实涉及到一个问题就是，啥时候用s. 啥时候用一个函数。。\n",
    "s = \"Hello World World World\"\n",
    "r= s.replace(\"World\",\"Universe\",1)\n",
    "r1 =s.replace(\"World\",\"Universe\",2)\n",
    "w =s.replace(\"World\",\"you\")\n",
    "w1 =s.replace(\"World\",\"you\").replace(\"you\",\"1\")\n",
    "\n",
    "# x = [1,1,2,5].replace(1,3)   这里会报错的。\n",
    "#x =125689.replace(1,2)\n",
    "print(s)  # s not change\n",
    "print(r)\n",
    "print(r1)\n",
    "print(w)\n",
    "print(w1)\n",
    "print(x)  #在这个cellipynb文件里面，所有的x都是通用的啊。6666\n"
   ]
  },
  {
   "cell_type": "code",
   "execution_count": null,
   "metadata": {},
   "outputs": [],
   "source": []
  },
  {
   "cell_type": "code",
   "execution_count": null,
   "metadata": {},
   "outputs": [],
   "source": []
  }
 ],
 "metadata": {
  "kernelspec": {
   "display_name": "Python 3",
   "language": "python",
   "name": "python3"
  },
  "language_info": {
   "codemirror_mode": {
    "name": "ipython",
    "version": 3
   },
   "file_extension": ".py",
   "mimetype": "text/x-python",
   "name": "python",
   "nbconvert_exporter": "python",
   "pygments_lexer": "ipython3",
   "version": "3.7.1"
  }
 },
 "nbformat": 4,
 "nbformat_minor": 2
}
